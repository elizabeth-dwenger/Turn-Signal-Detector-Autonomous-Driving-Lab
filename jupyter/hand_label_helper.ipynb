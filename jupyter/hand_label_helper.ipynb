{
 "cells": [
  {
   "cell_type": "markdown",
   "id": "78eb3922-1649-4387-ab82-bb6f8187bf5d",
   "metadata": {},
   "source": [
    "# Hand-labeling helper notebook\n",
    "\n",
    "Filling in some of the JSON automatically\n",
    "\n",
    "**Currently ignored, using hand_label_python.py instead**"
   ]
  },
  {
   "cell_type": "code",
   "execution_count": 1,
   "id": "4748e13b-97c8-499b-9e9d-e9ba625faa88",
   "metadata": {},
   "outputs": [],
   "source": [
    "import os\n",
    "import json"
   ]
  },
  {
   "cell_type": "code",
   "execution_count": 2,
   "id": "d5d335e8-6f18-4549-bcd5-5b77752c6b66",
   "metadata": {},
   "outputs": [],
   "source": [
    "def create_annotation_json(root_folder, output_file):\n",
    "    # Scans all subfolders for images and creates an annotation JSON with empty labels\n",
    "    annotations = []\n",
    "    for dirpath, _, filenames in os.walk(root_folder):\n",
    "        for filename in sorted(filenames):\n",
    "            if filename.lower().endswith((\".jpg\", \".jpeg\", \".png\")):\n",
    "                rel_path = os.path.relpath(os.path.join(dirpath, filename), start=root_folder)\n",
    "                annotations.append({\n",
    "                    \"image\": os.path.join(root_folder, rel_path).replace(\"\\\\\", \"/\"),  # nice forward slashes\n",
    "                    \"labels\": []\n",
    "                })\n",
    "\n",
    "    with open(output_file, \"w\", indent=2) as f:\n",
    "        json.dump(annotations, f, indent=2)\n",
    "    print(f\"Saved {len(annotations)} entries to {output_file}\")\n",
    "\n",
    "def load_annotations(json_file):\n",
    "    with open(json_file, \"r\") as f:\n",
    "        return json.load(f)\n",
    "\n",
    "def add_label(annotations, image_name, label):\n",
    "    # Adds a label to an image entry by matching the filename (not full path)\n",
    "    found = False\n",
    "    for entry in annotations:\n",
    "        if entry[\"image\"].endswith(image_name):\n",
    "            entry[\"labels\"].append(label)\n",
    "            found = True\n",
    "            break\n",
    "    if not found:\n",
    "        print(f\"Image {image_name} not found in annotations.\")\n",
    "    return annotations\n",
    "\n",
    "def save_annotations(annotations, json_file):\n",
    "    with open(json_file, \"w\", indent=2) as f:\n",
    "        json.dump(annotations, f, indent=2)\n",
    "    print(f\"Updated annotations saved to {json_file}\")"
   ]
  },
  {
   "cell_type": "code",
   "execution_count": null,
   "id": "553a33cc-69c6-4cc8-8ae6-1f7c29590d36",
   "metadata": {},
   "outputs": [],
   "source": [
    "# --- USAGE EXAMPLE ---\n",
    "# Create annotation file (only run once, or when you add new images)\n",
    "create_annotation_json(\"data_sample\", \"hand_labeled_annotations.json\")"
   ]
  },
  {
   "cell_type": "code",
   "execution_count": null,
   "id": "9d956a0e-9201-469d-b755-918ccc3b1cd2",
   "metadata": {},
   "outputs": [],
   "source": [
    "# Later, load and modify\n",
    "annotations = load_annotations(\"hand_labeled_annotations.json\")"
   ]
  },
  {
   "cell_type": "code",
   "execution_count": null,
   "id": "be3d850e-ba9f-495e-a57a-e99cd2612c15",
   "metadata": {},
   "outputs": [],
   "source": [
    "# Add a label to a specific image (by filename)\n",
    "annotations = add_label(annotations, \"car_001.jpg\", \"left_turn\")\n",
    "annotations = add_label(annotations, \"car_002.jpg\", \"hazard\")"
   ]
  },
  {
   "cell_type": "code",
   "execution_count": null,
   "id": "3c76497a-b990-443d-983d-15614b28d682",
   "metadata": {},
   "outputs": [],
   "source": [
    "# Save updated annotations\n",
    "save_annotations(annotations, \"hand_labeled_annotations.json\")"
   ]
  }
 ],
 "metadata": {
  "kernelspec": {
   "display_name": "Python 3 (ipykernel)",
   "language": "python",
   "name": "python3"
  },
  "language_info": {
   "codemirror_mode": {
    "name": "ipython",
    "version": 3
   },
   "file_extension": ".py",
   "mimetype": "text/x-python",
   "name": "python",
   "nbconvert_exporter": "python",
   "pygments_lexer": "ipython3",
   "version": "3.12.6"
  }
 },
 "nbformat": 4,
 "nbformat_minor": 5
}
